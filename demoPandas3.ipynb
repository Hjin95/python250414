{
 "cells": [
  {
   "cell_type": "code",
   "execution_count": null,
   "id": "6b1b5bc8",
   "metadata": {},
   "outputs": [],
   "source": [
    "from pandas import DataFrame, Series\n"
   ]
  }
 ],
 "metadata": {
  "language_info": {
   "name": "python"
  }
 },
 "nbformat": 4,
 "nbformat_minor": 5
}
